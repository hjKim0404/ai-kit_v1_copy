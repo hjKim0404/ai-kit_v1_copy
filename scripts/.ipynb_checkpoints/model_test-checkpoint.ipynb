{
 "cells": [
  {
   "cell_type": "markdown",
   "metadata": {
    "id": "idYEEXBhbeCQ"
   },
   "source": [
    "## 1. 필요한 패키지들을 불러옵니다."
   ]
  },
  {
   "cell_type": "code",
   "execution_count": null,
   "metadata": {
    "id": "m3VbR_NqbeCR"
   },
   "outputs": [],
   "source": [
    "import os\n",
    "BASE_PATH = os.path.dirname(os.getcwd())\n",
    "os.chdir(BASE_PATH)"
   ]
  },
  {
   "cell_type": "code",
   "execution_count": null,
   "metadata": {
    "id": "T4tbLXmmbeCR",
    "scrolled": true
   },
   "outputs": [],
   "source": [
    "import numpy as np\n",
    "import matplotlib.pyplot as plt"
   ]
  },
  {
   "cell_type": "code",
   "execution_count": null,
   "metadata": {
    "id": "8dRrLHAHbeCR"
   },
   "outputs": [],
   "source": [
    "from tensorflow.keras.models import load_model"
   ]
  },
  {
   "cell_type": "code",
   "execution_count": null,
   "metadata": {
    "colab": {
     "base_uri": "https://localhost:8080/",
     "height": 310
    },
    "id": "0wLGcWCjbeCR",
    "outputId": "5c21c0a1-fcd6-44ae-d0a9-c4d22f7a5a49"
   },
   "outputs": [],
   "source": [
    "from utils.helper import cropper, glob_all_files, paths2numpy, draw_rectangles"
   ]
  },
  {
   "cell_type": "markdown",
   "metadata": {
    "id": "-TtPO5okbeCR"
   },
   "source": [
    "## 2. 학습 시킨 모델을 불러옵니다"
   ]
  },
  {
   "cell_type": "code",
   "execution_count": null,
   "metadata": {
    "id": "Xsgcoy8rbeCR",
    "scrolled": true
   },
   "outputs": [],
   "source": [
    "# 모델을 불러옵니다. \n",
    "model = load_model('./models/book1_model')\n",
    "model.summary()"
   ]
  },
  {
   "cell_type": "markdown",
   "metadata": {
    "id": "08AeFnpWbeCR"
   },
   "source": [
    "## 3. 평가용 데이터를 불러옵니다."
   ]
  },
  {
   "cell_type": "code",
   "execution_count": null,
   "metadata": {},
   "outputs": [],
   "source": [
    "# 평가에 사용될 월리 책 번호\n",
    "book_number = 1"
   ]
  },
  {
   "cell_type": "code",
   "execution_count": null,
   "metadata": {
    "id": "tPYmGSQcqXGe"
   },
   "outputs": [],
   "source": [
    "paths = glob_all_files(f\"./data/book{str(book_number)}/common/full_image_test\")\n",
    "\n",
    "imgs = paths2numpy(paths)\n",
    "\n",
    "bucket_crop_imgs = []\n",
    "bucket_crop_crds = []\n",
    "\n",
    "for img in imgs:\n",
    "    cropped_images, cropped_coords = cropper(img, 10, 10, 36, 36)\n",
    "    bucket_crop_imgs.append(cropped_images)\n",
    "    bucket_crop_crds.append(cropped_coords)"
   ]
  },
  {
   "cell_type": "markdown",
   "metadata": {
    "id": "Po8mKz7kqzWQ"
   },
   "source": [
    "## 4. 모델을 평가용 데이터로 테스트합니다."
   ]
  },
  {
   "cell_type": "code",
   "execution_count": null,
   "metadata": {
    "id": "Byf6F5H5beCR",
    "scrolled": false
   },
   "outputs": [],
   "source": [
    "# 모델이 배경이 아니라고 예측한 카테고리 부분에 사각형을 그려주는 부분입니다.\n",
    "for i, img in enumerate(imgs):\n",
    "    cropped_imgs = bucket_crop_imgs[i]\n",
    "    cropped_crds = bucket_crop_crds[i]\n",
    "\n",
    "    # 예측값을 저장한 후, 그 중 0.5가 넘는 값들에 대한 불리언 마스크를 만드는 부분입니다.\n",
    "    predicts = model.predict(cropped_imgs)\n",
    "\n",
    "    # 불리언 마스크를 만들어 적용시키기 위한 부분\n",
    "    # np.argsort(predicts)[:, -1] 이후,\n",
    "    \"\"\"\n",
    "    != 0: 배경을 제외한 나머지 캐릭터들로 예측되는 곳은 true\n",
    "    == 1: 월리로 예측되는 곳만 true\n",
    "    == 2: 여자친구로 예측되는 곳만 true\n",
    "    == 3: 마법사로 예측되는 곳만 true\n",
    "    == 4: 가짜로 예측되는 곳만 true\n",
    "    \"\"\"\n",
    "    bool_mask = (np.argsort(predicts)[:, -1] != 0)\n",
    "\n",
    "    # show_images(cropped_imgs[bool_mask])    # 불리언 마스크를 적용시킨 결과로 얻은 월리의 얼굴로 추정되는 이미지 조각들을 출력\n",
    "    target_crds = np.array(cropped_crds)[bool_mask]     # 월리의 얼굴이 있을 것으로 예상되는 좌표들을 저장\n",
    "\n",
    "    predicts = predicts[bool_mask]  # 불리언 마스크를 적용시켰을 때의 예측값을 저장\n",
    "    \n",
    "    predicts = np.max(predicts, axis=1)\n",
    "\n",
    "    result_image = draw_rectangles(img, target_crds, (255, 0, 0), 3, predicts)\n",
    "\n",
    "    plt.figure(figsize=(20, 20))\n",
    "    plt.imshow(result_image)\n",
    "    plt.show()\n"
   ]
  },
  {
   "cell_type": "code",
   "execution_count": null,
   "metadata": {
    "id": "OTguVAvlbeCR"
   },
   "outputs": [],
   "source": [
    "# 9. 모델을 검증용 데이터로 테스트합니다.\n",
    "for i, img in enumerate(imgs):\n",
    "    cropped_imgs = bucket_crop_imgs[i]\n",
    "    cropped_crds = bucket_crop_crds[i]\n",
    "\n",
    "    # 예측값을 저장한 후, 그 중 0.5가 넘는 값들에 대한 불리언 마스크를 만드는 부분입니다.\n",
    "    predicts = model.predict(cropped_imgs)\n",
    "    \n",
    "    # **test, 특정 오브젝트의 max 예측값의 인덱스를 받아와 출력하기 위한 부분\n",
    "    waly_max = np.where(predicts[:, 1] == np.max(predicts[:, 1]))\n",
    "    girl_max = np.where(predicts[:, 2] == np.max(predicts[:, 2]))\n",
    "    magi_max = np.where(predicts[:, 3] == np.max(predicts[:, 3]))\n",
    "    fake_max = np.where(predicts[:, 4] == np.max(predicts[:, 4]))\n",
    "    \n",
    "    # 모든 오브젝트의 max 예측값의 인덱스를 가져오는 부분\n",
    "    all_max = np.argsort(predicts*-1, axis=0)[0, 1:5]\n",
    "    \n",
    "    # 찾고자 하는 캐릭터의 얼굴이 있을 것으로 예상되는 좌표들을 저장\n",
    "    # [] 안에 넣는 값에 따라 찾고자 하는 캐릭터가 바뀌게 됩니다. \n",
    "    \"\"\"\n",
    "    waly_max = 월리\n",
    "    girl_max = 월리 여자친구\n",
    "    magi_max = 마법사\n",
    "    fake_max = 가짜 월리\n",
    "    all_max = 위의 모든 캐릭터들\n",
    "    \"\"\"\n",
    "    target_crds = np.array(cropped_crds)[all_max]\n",
    "    \n",
    "    predicts = predicts[all_max]  # 불리언 마스크를 적용시켰을 때의 예측값을 저장\n",
    "\n",
    "    # 각 행들의 최대 예측값을 저장\n",
    "    predicts = np.max(predicts, axis=1)\n",
    "\n",
    "    result_image = draw_rectangles(img, target_crds, (255, 0, 0), 3, predicts)\n",
    "\n",
    "    plt.figure(figsize=(20, 20))\n",
    "    plt.imshow(result_image)\n",
    "    plt.show()"
   ]
  },
  {
   "cell_type": "code",
   "execution_count": null,
   "metadata": {},
   "outputs": [],
   "source": []
  }
 ],
 "metadata": {
  "colab": {
   "collapsed_sections": [],
   "name": "load_model.ipynb",
   "provenance": []
  },
  "kernelspec": {
   "display_name": "Python 3",
   "language": "python",
   "name": "python3"
  },
  "language_info": {
   "codemirror_mode": {
    "name": "ipython",
    "version": 3
   },
   "file_extension": ".py",
   "mimetype": "text/x-python",
   "name": "python",
   "nbconvert_exporter": "python",
   "pygments_lexer": "ipython3",
   "version": "3.8.3"
  }
 },
 "nbformat": 4,
 "nbformat_minor": 1
}
