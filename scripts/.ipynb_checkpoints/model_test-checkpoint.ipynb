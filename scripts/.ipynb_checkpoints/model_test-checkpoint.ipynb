{
 "cells": [
  {
   "cell_type": "markdown",
   "metadata": {
    "id": "idYEEXBhbeCQ"
   },
   "source": [
    "## 1. 필요한 패키지들을 불러옵니다."
   ]
  },
  {
   "cell_type": "code",
   "execution_count": 2,
   "metadata": {
    "id": "m3VbR_NqbeCR"
   },
   "outputs": [],
   "source": [
    "import os\n",
    "BASE_PATH = os.path.dirname(os.getcwd())\n",
    "os.chdir(BASE_PATH)"
   ]
  },
  {
   "cell_type": "code",
   "execution_count": 3,
   "metadata": {
    "id": "T4tbLXmmbeCR",
    "scrolled": true
   },
   "outputs": [],
   "source": [
    "import numpy as np\n",
    "import matplotlib.pyplot as plt"
   ]
  },
  {
   "cell_type": "code",
   "execution_count": 4,
   "metadata": {
    "id": "8dRrLHAHbeCR"
   },
   "outputs": [],
   "source": [
    "from tensorflow.keras.models import load_model"
   ]
  },
  {
   "cell_type": "code",
   "execution_count": 6,
   "metadata": {
    "colab": {
     "base_uri": "https://localhost:8080/",
     "height": 310
    },
    "id": "0wLGcWCjbeCR",
    "outputId": "5c21c0a1-fcd6-44ae-d0a9-c4d22f7a5a49"
   },
   "outputs": [],
   "source": [
    "from utils.helper import images_cropper, glob_all_files, paths2numpy\n",
    "from utils.helper import find_all_target, find_max_target, draw_rectangles"
   ]
  },
  {
   "cell_type": "markdown",
   "metadata": {
    "id": "-TtPO5okbeCR"
   },
   "source": [
    "## 2. 학습 시킨 모델을 불러옵니다"
   ]
  },
  {
   "cell_type": "code",
   "execution_count": 7,
   "metadata": {
    "id": "Xsgcoy8rbeCR",
    "scrolled": true
   },
   "outputs": [
    {
     "name": "stdout",
     "output_type": "stream",
     "text": [
      "Model: \"functional_1\"\n",
      "_________________________________________________________________\n",
      "Layer (type)                 Output Shape              Param #   \n",
      "=================================================================\n",
      "inputs (InputLayer)          [(None, 36, 36, 3)]       0         \n",
      "_________________________________________________________________\n",
      "conv2d (Conv2D)              (None, 36, 36, 32)        896       \n",
      "_________________________________________________________________\n",
      "batch_normalization (BatchNo (None, 36, 36, 32)        128       \n",
      "_________________________________________________________________\n",
      "re_lu (ReLU)                 (None, 36, 36, 32)        0         \n",
      "_________________________________________________________________\n",
      "max_pooling2d (MaxPooling2D) (None, 18, 18, 32)        0         \n",
      "_________________________________________________________________\n",
      "conv2d_1 (Conv2D)            (None, 18, 18, 64)        18496     \n",
      "_________________________________________________________________\n",
      "batch_normalization_1 (Batch (None, 18, 18, 64)        256       \n",
      "_________________________________________________________________\n",
      "re_lu_1 (ReLU)               (None, 18, 18, 64)        0         \n",
      "_________________________________________________________________\n",
      "max_pooling2d_1 (MaxPooling2 (None, 9, 9, 64)          0         \n",
      "_________________________________________________________________\n",
      "conv2d_2 (Conv2D)            (None, 9, 9, 128)         73856     \n",
      "_________________________________________________________________\n",
      "batch_normalization_2 (Batch (None, 9, 9, 128)         512       \n",
      "_________________________________________________________________\n",
      "re_lu_2 (ReLU)               (None, 9, 9, 128)         0         \n",
      "_________________________________________________________________\n",
      "max_pooling2d_2 (MaxPooling2 (None, 4, 4, 128)         0         \n",
      "_________________________________________________________________\n",
      "flatten (Flatten)            (None, 2048)              0         \n",
      "_________________________________________________________________\n",
      "dense (Dense)                (None, 256)               524544    \n",
      "_________________________________________________________________\n",
      "batch_normalization_3 (Batch (None, 256)               1024      \n",
      "_________________________________________________________________\n",
      "re_lu_3 (ReLU)               (None, 256)               0         \n",
      "_________________________________________________________________\n",
      "dense_1 (Dense)              (None, 256)               65792     \n",
      "_________________________________________________________________\n",
      "batch_normalization_4 (Batch (None, 256)               1024      \n",
      "_________________________________________________________________\n",
      "re_lu_4 (ReLU)               (None, 256)               0         \n",
      "_________________________________________________________________\n",
      "dense_2 (Dense)              (None, 5)                 1285      \n",
      "=================================================================\n",
      "Total params: 687,813\n",
      "Trainable params: 686,341\n",
      "Non-trainable params: 1,472\n",
      "_________________________________________________________________\n"
     ]
    }
   ],
   "source": [
    "# 모델을 불러옵니다. \n",
    "model = load_model('./models/book1_model')\n",
    "model.summary()"
   ]
  },
  {
   "cell_type": "markdown",
   "metadata": {
    "id": "Po8mKz7kqzWQ"
   },
   "source": [
    "## 3. 모델을 평가용 데이터로 테스트합니다."
   ]
  },
  {
   "cell_type": "code",
   "execution_count": 8,
   "metadata": {},
   "outputs": [],
   "source": [
    "# 평가에 사용될 월리 책 번호\n",
    "book_number = 1"
   ]
  },
  {
   "cell_type": "code",
   "execution_count": null,
   "metadata": {
    "id": "Byf6F5H5beCR",
    "scrolled": false
   },
   "outputs": [],
   "source": [
    "paths = glob_all_files(f\"./data/book{str(book_number)}/test_imgs\")\n",
    "\n",
    "imgs = paths2numpy(paths)\n",
    "\n",
    "assert imgs, print(\"올바른 경로가 아니거나, 경로 내에 평가용 이미지가 존재하지 않습니다.\")\n",
    "\n",
    "bucket_crop_imgs, bucket_crop_crds = images_cropper(imgs, 10, 10, 36, 36)\n",
    "\n",
    "for i, img in enumerate(imgs):\n",
    "    cropped_imgs = bucket_crop_imgs[i]\n",
    "    cropped_crds = bucket_crop_crds[i]\n",
    "\n",
    "    # 예측값을 저장한 후, 그 중 0.5가 넘는 값들에 대한 불리언 마스크를 만드는 부분입니다.\n",
    "    predicts = model.predict(cropped_imgs)\n",
    "\n",
    "    # mask 를 생성하는 함수들 입니다. 둘 중에서 원하는 방식을 사용할 수 있습니다.\n",
    "    # find_non_background: 학습 모델이 이미지에서 배경이라고 판단하지 않은 부분의 인덱스들을 가져옵니다.\n",
    "    #               limit 변수에 0이상 1미만의 값을 넣을 경우, 해당 값을 초과하는 예측값을 가진 부분의 인덱스들만을 가져옵니다.\n",
    "\n",
    "    # target 부분에 넣는 인자에 따라 특정 캐릭터의 예측 위치를 가져올 수 있습니다.\n",
    "    # 0: 모든 캐릭터, 1: 월리, 2: 여자친구, 3: 마법사, 4: 가짜\n",
    "    mask = find_all_target(predicts, limit=0, target=0)\n",
    "\n",
    "    # show_images(cropped_imgs[bool_mask])    # 불리언 마스크를 적용시킨 결과로 얻은 월리의 얼굴로 추정되는 이미지 조각들을 출력\n",
    "    target_crds = np.array(cropped_crds)[mask]  # 찾고자 하는 캐릭터의 얼굴이 있을 것으로 예상되는 좌표들을 저장\n",
    "    predicts = predicts[mask]  # 불리언 마스크를 적용시켰을 때의 예측값을 저장\n",
    "\n",
    "    # 각 행들의 최대 예측값을 저장\n",
    "    predicts = np.max(predicts, axis=1)\n",
    "\n",
    "    # 학습 모델이 목표로 잡은 곳에 빨간 사각형을 그린 후 해당 이미지를 저장한다.\n",
    "    result_image = draw_rectangles(img, target_crds, (255, 0, 0), 3, predicts)\n",
    "\n",
    "    # 결과 이미지를 화면에 보여준다\n",
    "    plt.figure(figsize=(20, 20))\n",
    "    plt.imshow(result_image)\n",
    "    plt.show()"
   ]
  },
  {
   "cell_type": "code",
   "execution_count": null,
   "metadata": {
    "id": "OTguVAvlbeCR"
   },
   "outputs": [],
   "source": [
    "paths = glob_all_files(f\"./data/book{str(book_number)}/common/full_image_test\")\n",
    "\n",
    "imgs = paths2numpy(paths)\n",
    "\n",
    "assert imgs, print(\"올바른 경로가 아니거나, 경로 내에 평가용 이미지가 존재하지 않습니다.\")\n",
    "\n",
    "bucket_crop_imgs, bucket_crop_crds = images_cropper(imgs, 10, 10, 36, 36)\n",
    "\n",
    "for i, img in enumerate(imgs):\n",
    "    cropped_imgs = bucket_crop_imgs[i]\n",
    "    cropped_crds = bucket_crop_crds[i]\n",
    "\n",
    "    # 예측값을 저장한 후, 그 중 0.5가 넘는 값들에 대한 불리언 마스크를 만드는 부분입니다.\n",
    "    predicts = model.predict(cropped_imgs)\n",
    "\n",
    "    # mask 를 생성하는 함수들 입니다. 둘 중에서 원하는 방식을 사용할 수 있습니다.\n",
    "    # find_max_prediction: 학습 모델이 이미지에서 목표 캐릭터의 얼굴일 확률이 가장 높은 부분의 인덱스들을 가져옵니다.\n",
    "\n",
    "    # target 부분에 넣는 인자에 따라 특정 캐릭터의 예측 위치를 가져올 수 있습니다.\n",
    "    # 0: 모든 캐릭터, 1: 월리, 2: 여자친구, 3: 마법사, 4: 가짜\n",
    "    mask = find_max_target(predicts, target=0)\n",
    "\n",
    "    # show_images(cropped_imgs[bool_mask])    # 불리언 마스크를 적용시킨 결과로 얻은 월리의 얼굴로 추정되는 이미지 조각들을 출력\n",
    "    target_crds = np.array(cropped_crds)[mask]  # 찾고자 하는 캐릭터의 얼굴이 있을 것으로 예상되는 좌표들을 저장\n",
    "    predicts = predicts[mask]  # 불리언 마스크를 적용시켰을 때의 예측값을 저장\n",
    "\n",
    "    # 각 행들의 최대 예측값을 저장\n",
    "    predicts = np.max(predicts, axis=1)\n",
    "\n",
    "    # 학습 모델이 목표로 잡은 곳에 빨간 사각형을 그린 후 해당 이미지를 저장한다.\n",
    "    result_image = draw_rectangles(img, target_crds, (255, 0, 0), 3, predicts)\n",
    "\n",
    "    # 결과 이미지를 화면에 보여준다\n",
    "    plt.figure(figsize=(20, 20))\n",
    "    plt.imshow(result_image)\n",
    "    plt.show()"
   ]
  },
  {
   "cell_type": "code",
   "execution_count": null,
   "metadata": {},
   "outputs": [],
   "source": []
  }
 ],
 "metadata": {
  "colab": {
   "collapsed_sections": [],
   "name": "load_model.ipynb",
   "provenance": []
  },
  "kernelspec": {
   "display_name": "Python 3",
   "language": "python",
   "name": "python3"
  },
  "language_info": {
   "codemirror_mode": {
    "name": "ipython",
    "version": 3
   },
   "file_extension": ".py",
   "mimetype": "text/x-python",
   "name": "python",
   "nbconvert_exporter": "python",
   "pygments_lexer": "ipython3",
   "version": "3.8.3"
  }
 },
 "nbformat": 4,
 "nbformat_minor": 1
}
