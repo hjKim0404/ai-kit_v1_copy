{
 "cells": [
  {
   "cell_type": "markdown",
   "metadata": {
    "id": "idYEEXBhbeCQ"
   },
   "source": [
    "## 1. 필요한 패키지들을 불러옵니다."
   ]
  },
  {
   "cell_type": "code",
   "execution_count": null,
   "metadata": {
    "id": "m3VbR_NqbeCR"
   },
   "outputs": [],
   "source": [
    "import os\n",
    "BASE_PATH = os.path.dirname(os.getcwd())\n",
    "os.chdir(BASE_PATH)"
   ]
  },
  {
   "cell_type": "code",
   "execution_count": null,
   "metadata": {
    "id": "T4tbLXmmbeCR",
    "scrolled": true
   },
   "outputs": [],
   "source": [
    "import numpy as np\n",
    "import matplotlib.pyplot as plt"
   ]
  },
  {
   "cell_type": "code",
   "execution_count": null,
   "metadata": {
    "id": "8dRrLHAHbeCR"
   },
   "outputs": [],
   "source": [
    "from tensorflow.keras.models import load_model"
   ]
  },
  {
   "cell_type": "code",
   "execution_count": null,
   "metadata": {
    "colab": {
     "base_uri": "https://localhost:8080/",
     "height": 310
    },
    "id": "0wLGcWCjbeCR",
    "outputId": "5c21c0a1-fcd6-44ae-d0a9-c4d22f7a5a49"
   },
   "outputs": [],
   "source": [
    "from utils.helper import images_cropper, glob_all_files, paths2numpy\n",
    "from utils.helper import draw_rectangles"
   ]
  },
  {
   "cell_type": "markdown",
   "metadata": {
    "id": "-TtPO5okbeCR"
   },
   "source": [
    "## 2. 학습 시킨 모델을 불러옵니다"
   ]
  },
  {
   "cell_type": "code",
   "execution_count": null,
   "metadata": {
    "id": "Xsgcoy8rbeCR",
    "scrolled": true
   },
   "outputs": [],
   "source": [
    "# 모델을 불러옵니다. \n",
    "model = load_model('./models/waly_model')\n",
    "model.summary()"
   ]
  },
  {
   "cell_type": "markdown",
   "metadata": {
    "id": "08AeFnpWbeCR"
   },
   "source": [
    "## 3. 평가용 데이터를 불러옵니다."
   ]
  },
  {
   "cell_type": "code",
   "execution_count": null,
   "metadata": {
    "id": "tPYmGSQcqXGe"
   },
   "outputs": [],
   "source": [
    "paths = glob_all_files('./data/test_imgs')\n",
    "\n",
    "assert paths, print(\"올바른 경로가 아니거나, 경로 내에 평가용 이미지가 존재하지 않습니다.\")\n",
    "\n",
    "imgs = paths2numpy(paths)\n",
    "\n",
    "bucket_crop_imgs, bucket_crop_crds = images_cropper(imgs, 10, 10, 36, 36)"
   ]
  },
  {
   "cell_type": "markdown",
   "metadata": {
    "id": "Po8mKz7kqzWQ"
   },
   "source": [
    "## 4. 모델을 평가용 데이터로 테스트합니다."
   ]
  },
  {
   "cell_type": "code",
   "execution_count": null,
   "metadata": {
    "id": "Byf6F5H5beCR",
    "scrolled": false
   },
   "outputs": [],
   "source": [
    "# 잘린 이미지중 월리가 있는 이미지를 찾고 해당이미지의 좌표를 원본 이미지에 출력합니다\n",
    "for img_ind, im in enumerate(imgs):\n",
    "    cropped_imgs = bucket_crop_imgs[img_ind]\n",
    "    cropped_crds = bucket_crop_crds[img_ind]\n",
    "\n",
    "    # Wally 라고 생각되는 이미지의 index을 가져옵니다.\n",
    "    predicts = model.predict(cropped_imgs)\n",
    "    bool_mask = (predicts > 0.4)[:, 0]\n",
    "\n",
    "    # Wally 라고 생각되는 이미지 좌표를 가져옵니다.\n",
    "    target_crds = np.array(cropped_crds)[bool_mask]\n",
    "\n",
    "    # 전체 이미지에 월리라고 예측 되는 부분에 사각형을 그립니다.\n",
    "    predicts = predicts[bool_mask]  # 불리언 마스크를 적용시켰을 때의 예측값을 저장합니다.\n",
    "    result_image = draw_rectangles(im, target_crds, (255, 0, 0), 3, predicts[:, 0])\n",
    "\n",
    "    fig = plt.figure(figsize=(10, 10))\n",
    "    plt.imshow(result_image)\n",
    "    plt.show()"
   ]
  },
  {
   "cell_type": "code",
   "execution_count": null,
   "metadata": {
    "id": "OTguVAvlbeCR"
   },
   "outputs": [],
   "source": []
  }
 ],
 "metadata": {
  "colab": {
   "collapsed_sections": [],
   "name": "load_model.ipynb",
   "provenance": []
  },
  "kernelspec": {
   "display_name": "Python 3",
   "language": "python",
   "name": "python3"
  },
  "language_info": {
   "codemirror_mode": {
    "name": "ipython",
    "version": 3
   },
   "file_extension": ".py",
   "mimetype": "text/x-python",
   "name": "python",
   "nbconvert_exporter": "python",
   "pygments_lexer": "ipython3",
   "version": "3.8.3"
  }
 },
 "nbformat": 4,
 "nbformat_minor": 1
}
