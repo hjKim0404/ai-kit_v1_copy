{
 "cells": [
  {
   "cell_type": "code",
   "execution_count": 1,
   "metadata": {},
   "outputs": [
    {
     "name": "stdout",
     "output_type": "stream",
     "text": [
      " C 드라이브의 볼륨에는 이름이 없습니다.\n",
      " 볼륨 일련 번호: 2894-9F00\n",
      "\n",
      " C:\\Users\\User\\Desktop\\Tasks\\Git\\where-is-wally 디렉터리\n",
      "\n",
      "2020-12-28  오후 01:58    <DIR>          .\n",
      "2020-12-28  오후 01:58    <DIR>          ..\n",
      "2020-12-28  오후 01:55    <DIR>          .idea\n",
      "2020-12-28  오후 01:51    <DIR>          .ipynb_checkpoints\n",
      "2020-12-28  오후 01:51             3,813 data-dowload.ipynb\n",
      "2020-12-16  오후 02:20               839 main.py\n",
      "2020-12-21  오후 02:00    <DIR>          models\n",
      "2020-12-22  오후 08:17             6,633 README.md\n",
      "2020-12-28  오후 01:45    <DIR>          scripts\n",
      "2020-12-28  오전 10:41    <DIR>          utils\n",
      "               3개 파일              11,285 바이트\n",
      "               7개 디렉터리  168,088,977,408 바이트 남음\n"
     ]
    }
   ],
   "source": [
    "ls"
   ]
  },
  {
   "cell_type": "code",
   "execution_count": 2,
   "metadata": {},
   "outputs": [
    {
     "data": {
      "text/plain": [
       "('data.zip', <http.client.HTTPMessage at 0x148b533d970>)"
      ]
     },
     "execution_count": 2,
     "metadata": {},
     "output_type": "execute_result"
    }
   ],
   "source": [
    "from urllib.request import urlretrieve\n",
    "urlretrieve(\"https://pai-share.s3.ap-northeast-2.amazonaws.com/find_wally_dataset/data.zip\",\"data.zip\")"
   ]
  },
  {
   "cell_type": "code",
   "execution_count": 3,
   "metadata": {},
   "outputs": [
    {
     "name": "stdout",
     "output_type": "stream",
     "text": [
      " C 드라이브의 볼륨에는 이름이 없습니다.\n",
      " 볼륨 일련 번호: 2894-9F00\n",
      "\n",
      " C:\\Users\\User\\Desktop\\Tasks\\Git\\where-is-wally 디렉터리\n",
      "\n",
      "2020-12-28  오후 02:00    <DIR>          .\n",
      "2020-12-28  오후 02:00    <DIR>          ..\n",
      "2020-12-28  오후 01:55    <DIR>          .idea\n",
      "2020-12-28  오후 01:51    <DIR>          .ipynb_checkpoints\n",
      "2020-12-28  오후 02:00       219,930,551 data.zip\n",
      "2020-12-28  오후 01:51             3,813 data-dowload.ipynb\n",
      "2020-12-16  오후 02:20               839 main.py\n",
      "2020-12-21  오후 02:00    <DIR>          models\n",
      "2020-12-22  오후 08:17             6,633 README.md\n",
      "2020-12-28  오후 01:45    <DIR>          scripts\n",
      "2020-12-28  오전 10:41    <DIR>          utils\n",
      "               4개 파일         219,941,836 바이트\n",
      "               7개 디렉터리  168,938,430,464 바이트 남음\n"
     ]
    }
   ],
   "source": [
    "ls"
   ]
  },
  {
   "cell_type": "code",
   "execution_count": 4,
   "metadata": {},
   "outputs": [],
   "source": [
    "import zipfile\n",
    "with zipfile.ZipFile(\"data.zip\",\"r\") as zip_ref:\n",
    "    zip_ref.extractall(\"data\")"
   ]
  },
  {
   "cell_type": "code",
   "execution_count": null,
   "metadata": {},
   "outputs": [],
   "source": []
  }
 ],
 "metadata": {
  "kernelspec": {
   "display_name": "Python 3",
   "language": "python",
   "name": "python3"
  },
  "language_info": {
   "codemirror_mode": {
    "name": "ipython",
    "version": 3
   },
   "file_extension": ".py",
   "mimetype": "text/x-python",
   "name": "python",
   "nbconvert_exporter": "python",
   "pygments_lexer": "ipython3",
   "version": "3.8.3"
  }
 },
 "nbformat": 4,
 "nbformat_minor": 4
}
